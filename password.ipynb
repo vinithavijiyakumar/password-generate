{
 "cells": [
  {
   "cell_type": "code",
   "execution_count": 1,
   "id": "af0a203e",
   "metadata": {},
   "outputs": [
    {
     "name": "stdout",
     "output_type": "stream",
     "text": [
      "Welcome to password generator\n",
      "How many letters you want in your password?\n",
      "4\n",
      "How many symbols you want in your password?\n",
      "3\n",
      "How many numbers you want in your password?\n",
      "2\n",
      "%0*dda3%b\n"
     ]
    }
   ],
   "source": [
    "import random\n",
    "\n",
    "letters = ['a', 'b', 'c', 'd']\n",
    "numbers = ['0', '1', '2', '3']\n",
    "symbols = ['*', '@', '%']\n",
    "\n",
    "print(\"Welcome to password generator\")\n",
    "n_letters = int(input(\"How many letters you want in your password?\\n\"))\n",
    "n_symbols = int(input(\"How many symbols you want in your password?\\n\"))\n",
    "n_numbers = int(input(\"How many numbers you want in your password?\\n\"))\n",
    "\n",
    "password_list = []\n",
    "\n",
    "for _ in range(n_letters):\n",
    "    char = random.choice(letters)\n",
    "    password_list.append(char)\n",
    "\n",
    "for _ in range(n_symbols):\n",
    "    char = random.choice(symbols)\n",
    "    password_list.append(char)\n",
    "\n",
    "for _ in range(n_numbers):\n",
    "    char = random.choice(numbers)\n",
    "    password_list.append(char)\n",
    "\n",
    "random.shuffle(password_list)\n",
    "\n",
    "password = ''.join(password_list)\n",
    "print(password)\n"
   ]
  },
  {
   "cell_type": "code",
   "execution_count": null,
   "id": "c51b2581",
   "metadata": {},
   "outputs": [],
   "source": []
  }
 ],
 "metadata": {
  "kernelspec": {
   "display_name": "Python 3 (ipykernel)",
   "language": "python",
   "name": "python3"
  },
  "language_info": {
   "codemirror_mode": {
    "name": "ipython",
    "version": 3
   },
   "file_extension": ".py",
   "mimetype": "text/x-python",
   "name": "python",
   "nbconvert_exporter": "python",
   "pygments_lexer": "ipython3",
   "version": "3.11.5"
  }
 },
 "nbformat": 4,
 "nbformat_minor": 5
}
